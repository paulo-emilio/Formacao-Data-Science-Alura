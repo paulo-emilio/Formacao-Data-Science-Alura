{
 "cells": [
  {
   "cell_type": "markdown",
   "id": "a6b0f7ba",
   "metadata": {},
   "source": [
    "## 01_02 - Conhecendo Pandas"
   ]
  },
  {
   "cell_type": "code",
   "execution_count": null,
   "id": "982e3b44",
   "metadata": {},
   "outputs": [],
   "source": [
    "import pandas as pd"
   ]
  },
  {
   "cell_type": "code",
   "execution_count": null,
   "id": "c7a11960",
   "metadata": {},
   "outputs": [],
   "source": [
    "notas = pd.read_csv('dados/ratings.csv')\n",
    "notas.head()"
   ]
  },
  {
   "cell_type": "code",
   "execution_count": null,
   "id": "832b2c20",
   "metadata": {},
   "outputs": [],
   "source": [
    "notas.shape"
   ]
  },
  {
   "cell_type": "code",
   "execution_count": null,
   "id": "f46d213f",
   "metadata": {},
   "outputs": [],
   "source": [
    "# renomeando colunas\n",
    "# notas.columns = ['usuarioId', 'filmeId', 'nota', 'momento']\n",
    "# notas.head()"
   ]
  },
  {
   "cell_type": "code",
   "execution_count": null,
   "id": "afa39be6",
   "metadata": {},
   "outputs": [],
   "source": [
    "# quais valores tem\n",
    "notas['rating'].unique()"
   ]
  },
  {
   "cell_type": "code",
   "execution_count": null,
   "id": "11a3c80c",
   "metadata": {},
   "outputs": [],
   "source": [
    "# contando qnts vezes cada uma apareceu\n",
    "notas['rating'].value_counts()"
   ]
  },
  {
   "cell_type": "code",
   "execution_count": null,
   "id": "9863407f",
   "metadata": {},
   "outputs": [],
   "source": [
    "# média\n",
    "notas['rating'].mean()"
   ]
  },
  {
   "cell_type": "markdown",
   "id": "0d5c19c0",
   "metadata": {},
   "source": [
    "## 01_05 - Visualizando dados com histograma e boxplot"
   ]
  },
  {
   "cell_type": "code",
   "execution_count": null,
   "id": "b09ca058",
   "metadata": {},
   "outputs": [],
   "source": [
    "# Plotando (imprimindo na tela)\n",
    "notas.rating.plot()  # motra uma bagunça pois pega um a um por indice/dado"
   ]
  },
  {
   "cell_type": "code",
   "execution_count": null,
   "id": "faf26171",
   "metadata": {},
   "outputs": [],
   "source": [
    "# Histograma, mostrando a frequência que aparece cada nota\n",
    "notas.rating.plot(kind='hist')"
   ]
  },
  {
   "cell_type": "code",
   "execution_count": null,
   "id": "75418dc5",
   "metadata": {},
   "outputs": [],
   "source": [
    "# mediana\n",
    "notas.rating.median()"
   ]
  },
  {
   "cell_type": "code",
   "execution_count": null,
   "id": "9f8ad138",
   "metadata": {},
   "outputs": [],
   "source": [
    "# describe()\n",
    "notas.rating.describe()"
   ]
  },
  {
   "cell_type": "markdown",
   "id": "01b5decd",
   "metadata": {},
   "source": [
    "### Seaborn"
   ]
  },
  {
   "cell_type": "code",
   "execution_count": null,
   "id": "2891b20a",
   "metadata": {},
   "outputs": [],
   "source": [
    "import seaborn as sns"
   ]
  },
  {
   "cell_type": "code",
   "execution_count": null,
   "id": "f0e027da",
   "metadata": {},
   "outputs": [],
   "source": [
    "# boxplot - plot de caixa\n",
    "sns.boxplot(notas.rating)"
   ]
  },
  {
   "cell_type": "markdown",
   "id": "58c3959c",
   "metadata": {},
   "source": [
    "* Mediana é o meio da caixa - 3,5\n",
    "* 0-25% está pra esquerda - 1,5 ao 3,0\n",
    "* 75-100% está na direita - 4,0 ao 5,0\n",
    "* 50% na caixa, sendo 25% a esquerda e 25% a direita\n",
    "* Notas 0,5 e 1,0 tem pouca frequência"
   ]
  }
 ],
 "metadata": {
  "kernelspec": {
   "display_name": "Python 3 (ipykernel)",
   "language": "python",
   "name": "python3"
  },
  "language_info": {
   "codemirror_mode": {
    "name": "ipython",
    "version": 3
   },
   "file_extension": ".py",
   "mimetype": "text/x-python",
   "name": "python",
   "nbconvert_exporter": "python",
   "pygments_lexer": "ipython3",
   "version": "3.9.13"
  }
 },
 "nbformat": 4,
 "nbformat_minor": 5
}
