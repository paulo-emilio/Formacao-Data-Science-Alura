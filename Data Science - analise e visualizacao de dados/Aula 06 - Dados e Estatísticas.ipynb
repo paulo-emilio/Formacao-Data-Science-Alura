{
 "cells": [
  {
   "cell_type": "markdown",
   "id": "cb8a7c77",
   "metadata": {},
   "source": [
    "### 06_02 - Média, mediana, desvio padrão, boxplot, histograma, tendência central e dispersão. \n",
    "### Como tudo isso se encaixa"
   ]
  },
  {
   "cell_type": "code",
   "execution_count": 20,
   "id": "543c39f9",
   "metadata": {},
   "outputs": [
    {
     "data": {
      "text/plain": [
       "<seaborn.axisgrid.FacetGrid at 0x28687e096a0>"
      ]
     },
     "execution_count": 20,
     "metadata": {},
     "output_type": "execute_result"
    }
   ],
   "source": [
    "import pandas as pd\n",
    "import seaborn as sns\n",
    "import matplotlib.pyplot as plt\n",
    "# Feito na última aula\n",
    "tmdb = pd.read_csv('dados/tmdb_5000_movies.csv')\n",
    "tmdb.query('original_language != \"en\"')\n",
    "filmes_sem_lingua_original_ingles = tmdb.query('original_language != \"en\"')\n",
    "tot_por_lingua_de_outros_filmes = filmes_sem_lingua_original_ingles['original_language'].value_counts()\n",
    "sns.catplot(x='original_language', kind='count', data=filmes_sem_lingua_original_ingles)\n",
    "sns.catplot(x = 'original_language', kind = 'count', \n",
    "            data = filmes_sem_lingua_original_ingles, \n",
    "            aspect = 2, \n",
    "            order = tot_por_lingua_de_outros_filmes.index,\n",
    "            palette = 'GnBu_d')"
   ]
  },
  {
   "cell_type": "code",
   "execution_count": 21,
   "id": "80ac2225",
   "metadata": {},
   "outputs": [
    {
     "data": {
      "text/html": [
       "<div>\n",
       "<style scoped>\n",
       "    .dataframe tbody tr th:only-of-type {\n",
       "        vertical-align: middle;\n",
       "    }\n",
       "\n",
       "    .dataframe tbody tr th {\n",
       "        vertical-align: top;\n",
       "    }\n",
       "\n",
       "    .dataframe thead th {\n",
       "        text-align: right;\n",
       "    }\n",
       "</style>\n",
       "<table border=\"1\" class=\"dataframe\">\n",
       "  <thead>\n",
       "    <tr style=\"text-align: right;\">\n",
       "      <th></th>\n",
       "      <th>userId</th>\n",
       "      <th>movieId</th>\n",
       "      <th>rating</th>\n",
       "      <th>timestamp</th>\n",
       "    </tr>\n",
       "  </thead>\n",
       "  <tbody>\n",
       "    <tr>\n",
       "      <th>0</th>\n",
       "      <td>1</td>\n",
       "      <td>1</td>\n",
       "      <td>4.0</td>\n",
       "      <td>964982703</td>\n",
       "    </tr>\n",
       "    <tr>\n",
       "      <th>1</th>\n",
       "      <td>1</td>\n",
       "      <td>3</td>\n",
       "      <td>4.0</td>\n",
       "      <td>964981247</td>\n",
       "    </tr>\n",
       "    <tr>\n",
       "      <th>2</th>\n",
       "      <td>1</td>\n",
       "      <td>6</td>\n",
       "      <td>4.0</td>\n",
       "      <td>964982224</td>\n",
       "    </tr>\n",
       "    <tr>\n",
       "      <th>3</th>\n",
       "      <td>1</td>\n",
       "      <td>47</td>\n",
       "      <td>5.0</td>\n",
       "      <td>964983815</td>\n",
       "    </tr>\n",
       "    <tr>\n",
       "      <th>4</th>\n",
       "      <td>1</td>\n",
       "      <td>50</td>\n",
       "      <td>5.0</td>\n",
       "      <td>964982931</td>\n",
       "    </tr>\n",
       "  </tbody>\n",
       "</table>\n",
       "</div>"
      ],
      "text/plain": [
       "   userId  movieId  rating  timestamp\n",
       "0       1        1     4.0  964982703\n",
       "1       1        3     4.0  964981247\n",
       "2       1        6     4.0  964982224\n",
       "3       1       47     5.0  964983815\n",
       "4       1       50     5.0  964982931"
      ]
     },
     "execution_count": 21,
     "metadata": {},
     "output_type": "execute_result"
    }
   ],
   "source": [
    "notas = pd.read_csv('dados/ratings.csv')\n",
    "notas.head()"
   ]
  },
  {
   "cell_type": "code",
   "execution_count": 22,
   "id": "5a90d37b",
   "metadata": {},
   "outputs": [
    {
     "data": {
      "text/html": [
       "<div>\n",
       "<style scoped>\n",
       "    .dataframe tbody tr th:only-of-type {\n",
       "        vertical-align: middle;\n",
       "    }\n",
       "\n",
       "    .dataframe tbody tr th {\n",
       "        vertical-align: top;\n",
       "    }\n",
       "\n",
       "    .dataframe thead th {\n",
       "        text-align: right;\n",
       "    }\n",
       "</style>\n",
       "<table border=\"1\" class=\"dataframe\">\n",
       "  <thead>\n",
       "    <tr style=\"text-align: right;\">\n",
       "      <th></th>\n",
       "      <th>movieId</th>\n",
       "      <th>title</th>\n",
       "      <th>genres</th>\n",
       "    </tr>\n",
       "  </thead>\n",
       "  <tbody>\n",
       "    <tr>\n",
       "      <th>0</th>\n",
       "      <td>1</td>\n",
       "      <td>Toy Story (1995)</td>\n",
       "      <td>Adventure|Animation|Children|Comedy|Fantasy</td>\n",
       "    </tr>\n",
       "    <tr>\n",
       "      <th>1</th>\n",
       "      <td>2</td>\n",
       "      <td>Jumanji (1995)</td>\n",
       "      <td>Adventure|Children|Fantasy</td>\n",
       "    </tr>\n",
       "    <tr>\n",
       "      <th>2</th>\n",
       "      <td>3</td>\n",
       "      <td>Grumpier Old Men (1995)</td>\n",
       "      <td>Comedy|Romance</td>\n",
       "    </tr>\n",
       "    <tr>\n",
       "      <th>3</th>\n",
       "      <td>4</td>\n",
       "      <td>Waiting to Exhale (1995)</td>\n",
       "      <td>Comedy|Drama|Romance</td>\n",
       "    </tr>\n",
       "  </tbody>\n",
       "</table>\n",
       "</div>"
      ],
      "text/plain": [
       "   movieId                     title  \\\n",
       "0        1          Toy Story (1995)   \n",
       "1        2            Jumanji (1995)   \n",
       "2        3   Grumpier Old Men (1995)   \n",
       "3        4  Waiting to Exhale (1995)   \n",
       "\n",
       "                                        genres  \n",
       "0  Adventure|Animation|Children|Comedy|Fantasy  \n",
       "1                   Adventure|Children|Fantasy  \n",
       "2                               Comedy|Romance  \n",
       "3                         Comedy|Drama|Romance  "
      ]
     },
     "execution_count": 22,
     "metadata": {},
     "output_type": "execute_result"
    }
   ],
   "source": [
    "filmes = pd.read_csv('dados/movies.csv')\n",
    "filmes.head(4)"
   ]
  },
  {
   "cell_type": "code",
   "execution_count": 23,
   "id": "33a71d46",
   "metadata": {},
   "outputs": [
    {
     "name": "stdout",
     "output_type": "stream",
     "text": [
      "215 52\n"
     ]
    }
   ],
   "source": [
    "# Vamos descobrir a média de notas desses filmes\n",
    "notas_toy_story = notas.query('movieId==1')\n",
    "notas_grumpier = notas.query('movieId==3')\n",
    "print(len(notas_toy_story), len(notas_grumpier))"
   ]
  },
  {
   "cell_type": "code",
   "execution_count": 24,
   "id": "0735e101",
   "metadata": {},
   "outputs": [
    {
     "name": "stdout",
     "output_type": "stream",
     "text": [
      "Nota média do Toy Story: 3.92\n",
      "Nota média do Grumpier Old Men: 3.26\n"
     ]
    }
   ],
   "source": [
    "print(f'Nota média do Toy Story: {(notas_toy_story[\"rating\"].mean()):.2f}')\n",
    "print(f'Nota média do Grumpier Old Men: {(notas_grumpier[\"rating\"].mean()):.2f}')"
   ]
  },
  {
   "cell_type": "code",
   "execution_count": 25,
   "id": "6d03b6db",
   "metadata": {},
   "outputs": [
    {
     "name": "stdout",
     "output_type": "stream",
     "text": [
      "Nota mediana do Toy Story: 4.00\n",
      "Nota mediana do Grumpier Old Men: 3.00\n"
     ]
    }
   ],
   "source": [
    "print(f'Nota mediana do Toy Story: {(notas_toy_story[\"rating\"].median()):.2f}')\n",
    "print(f'Nota mediana do Grumpier Old Men: {(notas_grumpier[\"rating\"].median()):.2f}')"
   ]
  },
  {
   "cell_type": "code",
   "execution_count": 26,
   "id": "0aa3b274",
   "metadata": {},
   "outputs": [],
   "source": [
    "import numpy as np\n",
    "\n",
    "filme1 = np.append(np.array([2.5]*10), np.array([3.5]*10))\n",
    "filme2 = np.append(np.array([1]*10), np.array([5]*10))"
   ]
  },
  {
   "cell_type": "code",
   "execution_count": 27,
   "id": "6df97dca",
   "metadata": {},
   "outputs": [
    {
     "name": "stdout",
     "output_type": "stream",
     "text": [
      "3.0 3.0\n",
      "3.0 3.0\n"
     ]
    }
   ],
   "source": [
    "print(filme1.mean(), filme2.mean())\n",
    "print(np.median(filme1), np.median(filme2))"
   ]
  },
  {
   "cell_type": "code",
   "execution_count": 28,
   "id": "be459447",
   "metadata": {},
   "outputs": [
    {
     "data": {
      "text/plain": [
       "<seaborn.axisgrid.FacetGrid at 0x2868825e370>"
      ]
     },
     "execution_count": 28,
     "metadata": {},
     "output_type": "execute_result"
    }
   ],
   "source": [
    "sns.displot(filme1)\n",
    "sns.displot(filme2)"
   ]
  },
  {
   "cell_type": "code",
   "execution_count": 29,
   "id": "2524880a",
   "metadata": {},
   "outputs": [
    {
     "data": {
      "text/plain": [
       "(array([10.,  0.,  0.,  0.,  0.,  0.,  0.,  0.,  0., 10.]),\n",
       " array([1. , 1.4, 1.8, 2.2, 2.6, 3. , 3.4, 3.8, 4.2, 4.6, 5. ]),\n",
       " <BarContainer object of 10 artists>)"
      ]
     },
     "execution_count": 29,
     "metadata": {},
     "output_type": "execute_result"
    }
   ],
   "source": [
    "plt.hist(filme1)\n",
    "plt.hist(filme2)"
   ]
  },
  {
   "cell_type": "code",
   "execution_count": 30,
   "id": "524fb400",
   "metadata": {},
   "outputs": [
    {
     "data": {
      "text/plain": [
       "{'whiskers': [<matplotlib.lines.Line2D at 0x286886e4af0>,\n",
       "  <matplotlib.lines.Line2D at 0x286886e4dc0>,\n",
       "  <matplotlib.lines.Line2D at 0x286886f1ee0>,\n",
       "  <matplotlib.lines.Line2D at 0x286886fd130>],\n",
       " 'caps': [<matplotlib.lines.Line2D at 0x286886f10d0>,\n",
       "  <matplotlib.lines.Line2D at 0x286886f13a0>,\n",
       "  <matplotlib.lines.Line2D at 0x286886fd370>,\n",
       "  <matplotlib.lines.Line2D at 0x286886fd640>],\n",
       " 'boxes': [<matplotlib.lines.Line2D at 0x286886e4820>,\n",
       "  <matplotlib.lines.Line2D at 0x286886f1c10>],\n",
       " 'medians': [<matplotlib.lines.Line2D at 0x286886f1670>,\n",
       "  <matplotlib.lines.Line2D at 0x286886fd910>],\n",
       " 'fliers': [<matplotlib.lines.Line2D at 0x286886f1940>,\n",
       "  <matplotlib.lines.Line2D at 0x286886fdc10>],\n",
       " 'means': []}"
      ]
     },
     "execution_count": 30,
     "metadata": {},
     "output_type": "execute_result"
    }
   ],
   "source": [
    "plt.boxplot([filme1, filme2])"
   ]
  },
  {
   "cell_type": "code",
   "execution_count": 31,
   "id": "cddf35e1",
   "metadata": {},
   "outputs": [
    {
     "name": "stderr",
     "output_type": "stream",
     "text": [
      "C:\\Users\\paulo\\anaconda3\\lib\\site-packages\\seaborn\\_decorators.py:36: FutureWarning: Pass the following variable as a keyword arg: x. From version 0.12, the only valid positional argument will be `data`, and passing other arguments without an explicit keyword will result in an error or misinterpretation.\n",
      "  warnings.warn(\n"
     ]
    },
    {
     "data": {
      "text/plain": [
       "<AxesSubplot:xlabel='rating', ylabel='Count'>"
      ]
     },
     "execution_count": 31,
     "metadata": {},
     "output_type": "execute_result"
    }
   ],
   "source": [
    "sns.boxplot(notas_toy_story.rating)"
   ]
  },
  {
   "cell_type": "code",
   "execution_count": 34,
   "id": "77b8ecf8",
   "metadata": {},
   "outputs": [
    {
     "data": {
      "text/plain": [
       "<AxesSubplot:xlabel='movieId', ylabel='rating'>"
      ]
     },
     "execution_count": 34,
     "metadata": {},
     "output_type": "execute_result"
    }
   ],
   "source": [
    "sns.boxplot(x='movieId', y='rating', data=notas.query('movieId in [1,3,6]'))"
   ]
  },
  {
   "cell_type": "code",
   "execution_count": 36,
   "id": "fc473008",
   "metadata": {},
   "outputs": [
    {
     "data": {
      "text/plain": [
       "0.8348591407114045"
      ]
     },
     "execution_count": 36,
     "metadata": {},
     "output_type": "execute_result"
    }
   ],
   "source": [
    "# Desvio padrão - std()\n",
    "notas_toy_story.rating.std()"
   ]
  },
  {
   "cell_type": "code",
   "execution_count": null,
   "id": "ffc4ee58",
   "metadata": {},
   "outputs": [],
   "source": []
  }
 ],
 "metadata": {
  "kernelspec": {
   "display_name": "Python 3 (ipykernel)",
   "language": "python",
   "name": "python3"
  },
  "language_info": {
   "codemirror_mode": {
    "name": "ipython",
    "version": 3
   },
   "file_extension": ".py",
   "mimetype": "text/x-python",
   "name": "python",
   "nbconvert_exporter": "python",
   "pygments_lexer": "ipython3",
   "version": "3.9.13"
  }
 },
 "nbformat": 4,
 "nbformat_minor": 5
}
