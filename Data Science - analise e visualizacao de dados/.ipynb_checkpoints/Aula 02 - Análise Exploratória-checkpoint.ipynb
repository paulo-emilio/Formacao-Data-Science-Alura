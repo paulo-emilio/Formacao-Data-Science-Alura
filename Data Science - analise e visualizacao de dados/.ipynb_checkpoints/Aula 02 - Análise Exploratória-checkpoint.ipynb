{
 "cells": [
  {
   "cell_type": "markdown",
   "id": "ad4e475f",
   "metadata": {},
   "source": [
    "## 02_02 - Análise Exploratória de Dados e mais Gráficos"
   ]
  },
  {
   "cell_type": "code",
   "execution_count": null,
   "id": "48b67ce7",
   "metadata": {},
   "outputs": [],
   "source": [
    "filmes = pd.read_csv('dados/movies.csv')\n",
    "filmes.head()"
   ]
  },
  {
   "cell_type": "code",
   "execution_count": null,
   "id": "50730182",
   "metadata": {},
   "outputs": [],
   "source": [
    "notas.head()"
   ]
  },
  {
   "cell_type": "markdown",
   "id": "b7ab1f33",
   "metadata": {},
   "source": [
    "### Analisando notas epecíficas por filme"
   ]
  },
  {
   "cell_type": "code",
   "execution_count": null,
   "id": "ebe98848",
   "metadata": {},
   "outputs": [],
   "source": [
    "# query (pergunta)\n",
    "# em notas, qual a nota média do filme 'Toy Story (movieId==1)'\n",
    "notas.query('movieId==1').rating.mean()"
   ]
  },
  {
   "cell_type": "code",
   "execution_count": null,
   "id": "fa6bc504",
   "metadata": {},
   "outputs": [],
   "source": [
    "# Agrupando e tirando a média\n",
    "notas.groupby('movieId').mean()"
   ]
  },
  {
   "cell_type": "code",
   "execution_count": null,
   "id": "a9b62d9d",
   "metadata": {},
   "outputs": [],
   "source": [
    "# médias só do rating\n",
    "medias_por_filme = notas.groupby('movieId').mean()['rating']\n",
    "medias_por_filme.head()"
   ]
  },
  {
   "cell_type": "code",
   "execution_count": null,
   "id": "e090cc17",
   "metadata": {},
   "outputs": [],
   "source": [
    "# plotando as medias\n",
    "medias_por_filme.plot(kind='hist')  # tipo(kind) que conta o histograma(hist)"
   ]
  },
  {
   "cell_type": "code",
   "execution_count": null,
   "id": "42470d42",
   "metadata": {},
   "outputs": [],
   "source": [
    "# boxplot com o seaborn\n",
    "sns.boxplot(medias_por_filme)"
   ]
  },
  {
   "cell_type": "code",
   "execution_count": null,
   "id": "3cc08804",
   "metadata": {},
   "outputs": [],
   "source": [
    "medias_por_filme.describe()"
   ]
  },
  {
   "cell_type": "code",
   "execution_count": null,
   "id": "c7c0b66f",
   "metadata": {},
   "outputs": [],
   "source": [
    "# gráfico de histograma no seaborn\n",
    "sns.distplot(medias_por_filme)  # grafico de distribuição"
   ]
  },
  {
   "cell_type": "code",
   "execution_count": null,
   "id": "5ac17d46",
   "metadata": {},
   "outputs": [],
   "source": [
    "# escolhando quantas 'caixinhas' ele vai fazer\n",
    "sns.distplot(medias_por_filme, bins=10)"
   ]
  },
  {
   "cell_type": "markdown",
   "id": "f6e29801",
   "metadata": {},
   "source": [
    "### matplotlib (usado pelo pandas e pelo seaborn)"
   ]
  },
  {
   "cell_type": "code",
   "execution_count": null,
   "id": "e1499bf9",
   "metadata": {},
   "outputs": [],
   "source": [
    "import matplotlib.pyplot as plt\n",
    "\n",
    "plt.hist(medias_por_filme)\n",
    "plt.title('Histograma das médias dos filmes')"
   ]
  },
  {
   "cell_type": "code",
   "execution_count": null,
   "id": "761aeb1f",
   "metadata": {},
   "outputs": [],
   "source": []
  }
 ],
 "metadata": {
  "kernelspec": {
   "display_name": "Python 3 (ipykernel)",
   "language": "python",
   "name": "python3"
  },
  "language_info": {
   "codemirror_mode": {
    "name": "ipython",
    "version": 3
   },
   "file_extension": ".py",
   "mimetype": "text/x-python",
   "name": "python",
   "nbconvert_exporter": "python",
   "pygments_lexer": "ipython3",
   "version": "3.9.13"
  }
 },
 "nbformat": 4,
 "nbformat_minor": 5
}
