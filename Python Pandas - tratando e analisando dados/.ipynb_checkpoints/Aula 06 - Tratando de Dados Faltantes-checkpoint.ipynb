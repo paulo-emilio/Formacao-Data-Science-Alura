{
 "cells": [
  {
   "cell_type": "markdown",
   "id": "02e9859d",
   "metadata": {},
   "source": [
    "# Relatório de Análise V"
   ]
  },
  {
   "cell_type": "markdown",
   "id": "290e7656",
   "metadata": {},
   "source": [
    "## 06_02 - Tirando Valores Nulos"
   ]
  },
  {
   "cell_type": "markdown",
   "id": "dab836b5",
   "metadata": {},
   "source": [
    "### Tratamento de Dados Faltantes"
   ]
  },
  {
   "cell_type": "code",
   "execution_count": 51,
   "id": "377e0fe1",
   "metadata": {},
   "outputs": [],
   "source": [
    "import pandas as pd"
   ]
  },
  {
   "cell_type": "code",
   "execution_count": 52,
   "id": "a7f0db12",
   "metadata": {},
   "outputs": [
    {
     "data": {
      "text/html": [
       "<div>\n",
       "<style scoped>\n",
       "    .dataframe tbody tr th:only-of-type {\n",
       "        vertical-align: middle;\n",
       "    }\n",
       "\n",
       "    .dataframe tbody tr th {\n",
       "        vertical-align: top;\n",
       "    }\n",
       "\n",
       "    .dataframe thead th {\n",
       "        text-align: right;\n",
       "    }\n",
       "</style>\n",
       "<table border=\"1\" class=\"dataframe\">\n",
       "  <thead>\n",
       "    <tr style=\"text-align: right;\">\n",
       "      <th></th>\n",
       "      <th>Tipo</th>\n",
       "      <th>Bairro</th>\n",
       "      <th>Quartos</th>\n",
       "      <th>Vagas</th>\n",
       "      <th>Suites</th>\n",
       "      <th>Area</th>\n",
       "      <th>Valor</th>\n",
       "      <th>Condominio</th>\n",
       "      <th>IPTU</th>\n",
       "    </tr>\n",
       "  </thead>\n",
       "  <tbody>\n",
       "    <tr>\n",
       "      <th>0</th>\n",
       "      <td>Quitinete</td>\n",
       "      <td>Copacabana</td>\n",
       "      <td>1</td>\n",
       "      <td>0</td>\n",
       "      <td>0</td>\n",
       "      <td>40</td>\n",
       "      <td>1700.0</td>\n",
       "      <td>500.0</td>\n",
       "      <td>60.0</td>\n",
       "    </tr>\n",
       "    <tr>\n",
       "      <th>1</th>\n",
       "      <td>Casa</td>\n",
       "      <td>Jardim Botânico</td>\n",
       "      <td>2</td>\n",
       "      <td>0</td>\n",
       "      <td>1</td>\n",
       "      <td>100</td>\n",
       "      <td>7000.0</td>\n",
       "      <td>NaN</td>\n",
       "      <td>NaN</td>\n",
       "    </tr>\n",
       "    <tr>\n",
       "      <th>2</th>\n",
       "      <td>Apartamento</td>\n",
       "      <td>Centro</td>\n",
       "      <td>1</td>\n",
       "      <td>0</td>\n",
       "      <td>0</td>\n",
       "      <td>15</td>\n",
       "      <td>800.0</td>\n",
       "      <td>390.0</td>\n",
       "      <td>20.0</td>\n",
       "    </tr>\n",
       "    <tr>\n",
       "      <th>3</th>\n",
       "      <td>Apartamento</td>\n",
       "      <td>Higienópolis</td>\n",
       "      <td>1</td>\n",
       "      <td>0</td>\n",
       "      <td>0</td>\n",
       "      <td>48</td>\n",
       "      <td>800.0</td>\n",
       "      <td>230.0</td>\n",
       "      <td>NaN</td>\n",
       "    </tr>\n",
       "    <tr>\n",
       "      <th>4</th>\n",
       "      <td>Apartamento</td>\n",
       "      <td>Vista Alegre</td>\n",
       "      <td>3</td>\n",
       "      <td>1</td>\n",
       "      <td>0</td>\n",
       "      <td>70</td>\n",
       "      <td>1200.0</td>\n",
       "      <td>NaN</td>\n",
       "      <td>NaN</td>\n",
       "    </tr>\n",
       "    <tr>\n",
       "      <th>5</th>\n",
       "      <td>Apartamento</td>\n",
       "      <td>Cachambi</td>\n",
       "      <td>2</td>\n",
       "      <td>0</td>\n",
       "      <td>0</td>\n",
       "      <td>50</td>\n",
       "      <td>1300.0</td>\n",
       "      <td>301.0</td>\n",
       "      <td>17.0</td>\n",
       "    </tr>\n",
       "    <tr>\n",
       "      <th>6</th>\n",
       "      <td>Casa de Condomínio</td>\n",
       "      <td>Barra da Tijuca</td>\n",
       "      <td>5</td>\n",
       "      <td>4</td>\n",
       "      <td>5</td>\n",
       "      <td>750</td>\n",
       "      <td>22000.0</td>\n",
       "      <td>NaN</td>\n",
       "      <td>NaN</td>\n",
       "    </tr>\n",
       "    <tr>\n",
       "      <th>7</th>\n",
       "      <td>Casa de Condomínio</td>\n",
       "      <td>Ramos</td>\n",
       "      <td>2</td>\n",
       "      <td>2</td>\n",
       "      <td>0</td>\n",
       "      <td>65</td>\n",
       "      <td>1000.0</td>\n",
       "      <td>NaN</td>\n",
       "      <td>NaN</td>\n",
       "    </tr>\n",
       "    <tr>\n",
       "      <th>8</th>\n",
       "      <td>Apartamento</td>\n",
       "      <td>Centro</td>\n",
       "      <td>1</td>\n",
       "      <td>0</td>\n",
       "      <td>0</td>\n",
       "      <td>36</td>\n",
       "      <td>1200.0</td>\n",
       "      <td>NaN</td>\n",
       "      <td>NaN</td>\n",
       "    </tr>\n",
       "    <tr>\n",
       "      <th>9</th>\n",
       "      <td>Apartamento</td>\n",
       "      <td>Grajaú</td>\n",
       "      <td>2</td>\n",
       "      <td>1</td>\n",
       "      <td>0</td>\n",
       "      <td>70</td>\n",
       "      <td>1500.0</td>\n",
       "      <td>642.0</td>\n",
       "      <td>74.0</td>\n",
       "    </tr>\n",
       "  </tbody>\n",
       "</table>\n",
       "</div>"
      ],
      "text/plain": [
       "                 Tipo           Bairro  Quartos  Vagas  Suites  Area    Valor  \\\n",
       "0           Quitinete       Copacabana        1      0       0    40   1700.0   \n",
       "1                Casa  Jardim Botânico        2      0       1   100   7000.0   \n",
       "2         Apartamento           Centro        1      0       0    15    800.0   \n",
       "3         Apartamento     Higienópolis        1      0       0    48    800.0   \n",
       "4         Apartamento     Vista Alegre        3      1       0    70   1200.0   \n",
       "5         Apartamento         Cachambi        2      0       0    50   1300.0   \n",
       "6  Casa de Condomínio  Barra da Tijuca        5      4       5   750  22000.0   \n",
       "7  Casa de Condomínio            Ramos        2      2       0    65   1000.0   \n",
       "8         Apartamento           Centro        1      0       0    36   1200.0   \n",
       "9         Apartamento           Grajaú        2      1       0    70   1500.0   \n",
       "\n",
       "   Condominio  IPTU  \n",
       "0       500.0  60.0  \n",
       "1         NaN   NaN  \n",
       "2       390.0  20.0  \n",
       "3       230.0   NaN  \n",
       "4         NaN   NaN  \n",
       "5       301.0  17.0  \n",
       "6         NaN   NaN  \n",
       "7         NaN   NaN  \n",
       "8         NaN   NaN  \n",
       "9       642.0  74.0  "
      ]
     },
     "execution_count": 52,
     "metadata": {},
     "output_type": "execute_result"
    }
   ],
   "source": [
    "dados = pd.read_csv('dados/aluguel_residencial.csv', sep=';')\n",
    "dados.head(10)"
   ]
  },
  {
   "cell_type": "code",
   "execution_count": 53,
   "id": "a6459c2f",
   "metadata": {},
   "outputs": [],
   "source": [
    "# dados.isnull() - True se o valor é nulo\n",
    "# dados.notnull() - True se não é nulo"
   ]
  },
  {
   "cell_type": "code",
   "execution_count": 54,
   "id": "199e274f",
   "metadata": {},
   "outputs": [
    {
     "name": "stdout",
     "output_type": "stream",
     "text": [
      "<class 'pandas.core.frame.DataFrame'>\n",
      "RangeIndex: 22580 entries, 0 to 22579\n",
      "Data columns (total 9 columns):\n",
      " #   Column      Non-Null Count  Dtype  \n",
      "---  ------      --------------  -----  \n",
      " 0   Tipo        22580 non-null  object \n",
      " 1   Bairro      22580 non-null  object \n",
      " 2   Quartos     22580 non-null  int64  \n",
      " 3   Vagas       22580 non-null  int64  \n",
      " 4   Suites      22580 non-null  int64  \n",
      " 5   Area        22580 non-null  int64  \n",
      " 6   Valor       22571 non-null  float64\n",
      " 7   Condominio  20765 non-null  float64\n",
      " 8   IPTU        15795 non-null  float64\n",
      "dtypes: float64(3), int64(4), object(2)\n",
      "memory usage: 1.6+ MB\n"
     ]
    }
   ],
   "source": [
    "# verificando quais possuem valores nulos\n",
    "dados.info()  # vimos que Valor, Condominio e IPTU possuem valores nulos"
   ]
  },
  {
   "cell_type": "code",
   "execution_count": 55,
   "id": "990ca868",
   "metadata": {},
   "outputs": [
    {
     "data": {
      "text/plain": [
       "0        False\n",
       "1        False\n",
       "2        False\n",
       "3        False\n",
       "4        False\n",
       "         ...  \n",
       "22575    False\n",
       "22576    False\n",
       "22577    False\n",
       "22578    False\n",
       "22579    False\n",
       "Name: Valor, Length: 22580, dtype: bool"
      ]
     },
     "execution_count": 55,
     "metadata": {},
     "output_type": "execute_result"
    }
   ],
   "source": [
    "dados['Valor'].isnull()\n",
    "# cria uma Series com os valores booleanos, True se nulo"
   ]
  },
  {
   "cell_type": "code",
   "execution_count": 56,
   "id": "68b9b971",
   "metadata": {},
   "outputs": [
    {
     "data": {
      "text/html": [
       "<div>\n",
       "<style scoped>\n",
       "    .dataframe tbody tr th:only-of-type {\n",
       "        vertical-align: middle;\n",
       "    }\n",
       "\n",
       "    .dataframe tbody tr th {\n",
       "        vertical-align: top;\n",
       "    }\n",
       "\n",
       "    .dataframe thead th {\n",
       "        text-align: right;\n",
       "    }\n",
       "</style>\n",
       "<table border=\"1\" class=\"dataframe\">\n",
       "  <thead>\n",
       "    <tr style=\"text-align: right;\">\n",
       "      <th></th>\n",
       "      <th>Tipo</th>\n",
       "      <th>Bairro</th>\n",
       "      <th>Quartos</th>\n",
       "      <th>Vagas</th>\n",
       "      <th>Suites</th>\n",
       "      <th>Area</th>\n",
       "      <th>Valor</th>\n",
       "      <th>Condominio</th>\n",
       "      <th>IPTU</th>\n",
       "    </tr>\n",
       "  </thead>\n",
       "  <tbody>\n",
       "    <tr>\n",
       "      <th>58</th>\n",
       "      <td>Apartamento</td>\n",
       "      <td>Barra da Tijuca</td>\n",
       "      <td>2</td>\n",
       "      <td>1</td>\n",
       "      <td>1</td>\n",
       "      <td>70</td>\n",
       "      <td>NaN</td>\n",
       "      <td>970.0</td>\n",
       "      <td>68.0</td>\n",
       "    </tr>\n",
       "    <tr>\n",
       "      <th>1492</th>\n",
       "      <td>Apartamento</td>\n",
       "      <td>Leme</td>\n",
       "      <td>2</td>\n",
       "      <td>0</td>\n",
       "      <td>0</td>\n",
       "      <td>75</td>\n",
       "      <td>NaN</td>\n",
       "      <td>878.0</td>\n",
       "      <td>NaN</td>\n",
       "    </tr>\n",
       "    <tr>\n",
       "      <th>1683</th>\n",
       "      <td>Casa</td>\n",
       "      <td>Campo Grande</td>\n",
       "      <td>3</td>\n",
       "      <td>4</td>\n",
       "      <td>3</td>\n",
       "      <td>363</td>\n",
       "      <td>NaN</td>\n",
       "      <td>NaN</td>\n",
       "      <td>NaN</td>\n",
       "    </tr>\n",
       "    <tr>\n",
       "      <th>2012</th>\n",
       "      <td>Apartamento</td>\n",
       "      <td>Botafogo</td>\n",
       "      <td>2</td>\n",
       "      <td>0</td>\n",
       "      <td>0</td>\n",
       "      <td>95</td>\n",
       "      <td>NaN</td>\n",
       "      <td>1010.0</td>\n",
       "      <td>170.0</td>\n",
       "    </tr>\n",
       "    <tr>\n",
       "      <th>2034</th>\n",
       "      <td>Apartamento</td>\n",
       "      <td>Copacabana</td>\n",
       "      <td>2</td>\n",
       "      <td>0</td>\n",
       "      <td>0</td>\n",
       "      <td>72</td>\n",
       "      <td>NaN</td>\n",
       "      <td>850.0</td>\n",
       "      <td>NaN</td>\n",
       "    </tr>\n",
       "    <tr>\n",
       "      <th>4941</th>\n",
       "      <td>Casa</td>\n",
       "      <td>Campo Grande</td>\n",
       "      <td>3</td>\n",
       "      <td>2</td>\n",
       "      <td>1</td>\n",
       "      <td>100</td>\n",
       "      <td>NaN</td>\n",
       "      <td>NaN</td>\n",
       "      <td>NaN</td>\n",
       "    </tr>\n",
       "    <tr>\n",
       "      <th>8568</th>\n",
       "      <td>Apartamento</td>\n",
       "      <td>Leme</td>\n",
       "      <td>2</td>\n",
       "      <td>0</td>\n",
       "      <td>1</td>\n",
       "      <td>75</td>\n",
       "      <td>NaN</td>\n",
       "      <td>878.0</td>\n",
       "      <td>NaN</td>\n",
       "    </tr>\n",
       "    <tr>\n",
       "      <th>8947</th>\n",
       "      <td>Apartamento</td>\n",
       "      <td>Glória</td>\n",
       "      <td>3</td>\n",
       "      <td>0</td>\n",
       "      <td>1</td>\n",
       "      <td>135</td>\n",
       "      <td>NaN</td>\n",
       "      <td>910.0</td>\n",
       "      <td>228.0</td>\n",
       "    </tr>\n",
       "    <tr>\n",
       "      <th>9149</th>\n",
       "      <td>Apartamento</td>\n",
       "      <td>Gávea</td>\n",
       "      <td>3</td>\n",
       "      <td>1</td>\n",
       "      <td>1</td>\n",
       "      <td>105</td>\n",
       "      <td>NaN</td>\n",
       "      <td>880.0</td>\n",
       "      <td>221.0</td>\n",
       "    </tr>\n",
       "  </tbody>\n",
       "</table>\n",
       "</div>"
      ],
      "text/plain": [
       "             Tipo           Bairro  Quartos  Vagas  Suites  Area  Valor  \\\n",
       "58    Apartamento  Barra da Tijuca        2      1       1    70    NaN   \n",
       "1492  Apartamento             Leme        2      0       0    75    NaN   \n",
       "1683         Casa     Campo Grande        3      4       3   363    NaN   \n",
       "2012  Apartamento         Botafogo        2      0       0    95    NaN   \n",
       "2034  Apartamento       Copacabana        2      0       0    72    NaN   \n",
       "4941         Casa     Campo Grande        3      2       1   100    NaN   \n",
       "8568  Apartamento             Leme        2      0       1    75    NaN   \n",
       "8947  Apartamento           Glória        3      0       1   135    NaN   \n",
       "9149  Apartamento            Gávea        3      1       1   105    NaN   \n",
       "\n",
       "      Condominio   IPTU  \n",
       "58         970.0   68.0  \n",
       "1492       878.0    NaN  \n",
       "1683         NaN    NaN  \n",
       "2012      1010.0  170.0  \n",
       "2034       850.0    NaN  \n",
       "4941         NaN    NaN  \n",
       "8568       878.0    NaN  \n",
       "8947       910.0  228.0  \n",
       "9149       880.0  221.0  "
      ]
     },
     "execution_count": 56,
     "metadata": {},
     "output_type": "execute_result"
    }
   ],
   "source": [
    "# Pega somente as linhas onde tem o valor nulo na coluna \"Valor\"\n",
    "dados[dados['Valor'].isnull()]"
   ]
  },
  {
   "cell_type": "code",
   "execution_count": 57,
   "id": "c185630d",
   "metadata": {},
   "outputs": [
    {
     "data": {
      "text/plain": [
       "22580"
      ]
     },
     "execution_count": 57,
     "metadata": {},
     "output_type": "execute_result"
    }
   ],
   "source": [
    "dados.shape[0]"
   ]
  },
  {
   "cell_type": "code",
   "execution_count": 58,
   "id": "bc72174e",
   "metadata": {},
   "outputs": [],
   "source": [
    "# Apagando as linhas com valor NaN\n",
    "dados.dropna(subset = ['Valor'], inplace = True)  # dropna = drop NaN. subset = [lista de variáveis que vão ser dropadas]"
   ]
  },
  {
   "cell_type": "code",
   "execution_count": 59,
   "id": "46484d36",
   "metadata": {},
   "outputs": [
    {
     "data": {
      "text/html": [
       "<div>\n",
       "<style scoped>\n",
       "    .dataframe tbody tr th:only-of-type {\n",
       "        vertical-align: middle;\n",
       "    }\n",
       "\n",
       "    .dataframe tbody tr th {\n",
       "        vertical-align: top;\n",
       "    }\n",
       "\n",
       "    .dataframe thead th {\n",
       "        text-align: right;\n",
       "    }\n",
       "</style>\n",
       "<table border=\"1\" class=\"dataframe\">\n",
       "  <thead>\n",
       "    <tr style=\"text-align: right;\">\n",
       "      <th></th>\n",
       "      <th>Tipo</th>\n",
       "      <th>Bairro</th>\n",
       "      <th>Quartos</th>\n",
       "      <th>Vagas</th>\n",
       "      <th>Suites</th>\n",
       "      <th>Area</th>\n",
       "      <th>Valor</th>\n",
       "      <th>Condominio</th>\n",
       "      <th>IPTU</th>\n",
       "    </tr>\n",
       "  </thead>\n",
       "  <tbody>\n",
       "  </tbody>\n",
       "</table>\n",
       "</div>"
      ],
      "text/plain": [
       "Empty DataFrame\n",
       "Columns: [Tipo, Bairro, Quartos, Vagas, Suites, Area, Valor, Condominio, IPTU]\n",
       "Index: []"
      ]
     },
     "execution_count": 59,
     "metadata": {},
     "output_type": "execute_result"
    }
   ],
   "source": [
    "# Verificando se deu certo\n",
    "dados[dados['Valor'].isnull()]"
   ]
  },
  {
   "cell_type": "code",
   "execution_count": 60,
   "id": "8a52ff19",
   "metadata": {},
   "outputs": [
    {
     "data": {
      "text/plain": [
       "22571"
      ]
     },
     "execution_count": 60,
     "metadata": {},
     "output_type": "execute_result"
    }
   ],
   "source": [
    "# Verificando se foram apagados os 9 registros\n",
    "dados.shape[0]"
   ]
  },
  {
   "cell_type": "markdown",
   "id": "4c50b92e",
   "metadata": {},
   "source": [
    "## 06_04 - Tratamento Condicional"
   ]
  },
  {
   "cell_type": "markdown",
   "id": "789800c8",
   "metadata": {},
   "source": [
    "### Tratamento de Dados Faltantes (continuação)"
   ]
  },
  {
   "cell_type": "code",
   "execution_count": 61,
   "id": "ee24dc50",
   "metadata": {},
   "outputs": [
    {
     "data": {
      "text/plain": [
       "1813"
      ]
     },
     "execution_count": 61,
     "metadata": {},
     "output_type": "execute_result"
    }
   ],
   "source": [
    "# Quantos dados de Condomínio estão nulos\n",
    "dados[dados['Condominio'].isnull()].shape[0]"
   ]
  },
  {
   "cell_type": "code",
   "execution_count": 62,
   "id": "df613ba3",
   "metadata": {},
   "outputs": [
    {
     "data": {
      "text/html": [
       "<div>\n",
       "<style scoped>\n",
       "    .dataframe tbody tr th:only-of-type {\n",
       "        vertical-align: middle;\n",
       "    }\n",
       "\n",
       "    .dataframe tbody tr th {\n",
       "        vertical-align: top;\n",
       "    }\n",
       "\n",
       "    .dataframe thead th {\n",
       "        text-align: right;\n",
       "    }\n",
       "</style>\n",
       "<table border=\"1\" class=\"dataframe\">\n",
       "  <thead>\n",
       "    <tr style=\"text-align: right;\">\n",
       "      <th></th>\n",
       "      <th>Tipo</th>\n",
       "      <th>Bairro</th>\n",
       "      <th>Quartos</th>\n",
       "      <th>Vagas</th>\n",
       "      <th>Suites</th>\n",
       "      <th>Area</th>\n",
       "      <th>Valor</th>\n",
       "      <th>Condominio</th>\n",
       "      <th>IPTU</th>\n",
       "    </tr>\n",
       "  </thead>\n",
       "  <tbody>\n",
       "    <tr>\n",
       "      <th>4</th>\n",
       "      <td>Apartamento</td>\n",
       "      <td>Vista Alegre</td>\n",
       "      <td>3</td>\n",
       "      <td>1</td>\n",
       "      <td>0</td>\n",
       "      <td>70</td>\n",
       "      <td>1200.0</td>\n",
       "      <td>NaN</td>\n",
       "      <td>NaN</td>\n",
       "    </tr>\n",
       "    <tr>\n",
       "      <th>8</th>\n",
       "      <td>Apartamento</td>\n",
       "      <td>Centro</td>\n",
       "      <td>1</td>\n",
       "      <td>0</td>\n",
       "      <td>0</td>\n",
       "      <td>36</td>\n",
       "      <td>1200.0</td>\n",
       "      <td>NaN</td>\n",
       "      <td>NaN</td>\n",
       "    </tr>\n",
       "    <tr>\n",
       "      <th>83</th>\n",
       "      <td>Apartamento</td>\n",
       "      <td>Praça Seca</td>\n",
       "      <td>2</td>\n",
       "      <td>0</td>\n",
       "      <td>0</td>\n",
       "      <td>80</td>\n",
       "      <td>1000.0</td>\n",
       "      <td>NaN</td>\n",
       "      <td>NaN</td>\n",
       "    </tr>\n",
       "    <tr>\n",
       "      <th>117</th>\n",
       "      <td>Apartamento</td>\n",
       "      <td>Rocha Miranda</td>\n",
       "      <td>2</td>\n",
       "      <td>1</td>\n",
       "      <td>0</td>\n",
       "      <td>50</td>\n",
       "      <td>1100.0</td>\n",
       "      <td>NaN</td>\n",
       "      <td>NaN</td>\n",
       "    </tr>\n",
       "    <tr>\n",
       "      <th>133</th>\n",
       "      <td>Apartamento</td>\n",
       "      <td>Barra da Tijuca</td>\n",
       "      <td>1</td>\n",
       "      <td>1</td>\n",
       "      <td>1</td>\n",
       "      <td>65</td>\n",
       "      <td>2350.0</td>\n",
       "      <td>NaN</td>\n",
       "      <td>NaN</td>\n",
       "    </tr>\n",
       "    <tr>\n",
       "      <th>...</th>\n",
       "      <td>...</td>\n",
       "      <td>...</td>\n",
       "      <td>...</td>\n",
       "      <td>...</td>\n",
       "      <td>...</td>\n",
       "      <td>...</td>\n",
       "      <td>...</td>\n",
       "      <td>...</td>\n",
       "      <td>...</td>\n",
       "    </tr>\n",
       "    <tr>\n",
       "      <th>22328</th>\n",
       "      <td>Apartamento</td>\n",
       "      <td>Copacabana</td>\n",
       "      <td>3</td>\n",
       "      <td>0</td>\n",
       "      <td>0</td>\n",
       "      <td>130</td>\n",
       "      <td>4600.0</td>\n",
       "      <td>NaN</td>\n",
       "      <td>NaN</td>\n",
       "    </tr>\n",
       "    <tr>\n",
       "      <th>22356</th>\n",
       "      <td>Apartamento</td>\n",
       "      <td>Guadalupe</td>\n",
       "      <td>1</td>\n",
       "      <td>0</td>\n",
       "      <td>0</td>\n",
       "      <td>40</td>\n",
       "      <td>550.0</td>\n",
       "      <td>NaN</td>\n",
       "      <td>NaN</td>\n",
       "    </tr>\n",
       "    <tr>\n",
       "      <th>22373</th>\n",
       "      <td>Apartamento</td>\n",
       "      <td>Bonsucesso</td>\n",
       "      <td>1</td>\n",
       "      <td>0</td>\n",
       "      <td>0</td>\n",
       "      <td>60</td>\n",
       "      <td>1000.0</td>\n",
       "      <td>NaN</td>\n",
       "      <td>NaN</td>\n",
       "    </tr>\n",
       "    <tr>\n",
       "      <th>22403</th>\n",
       "      <td>Apartamento</td>\n",
       "      <td>Flamengo</td>\n",
       "      <td>2</td>\n",
       "      <td>0</td>\n",
       "      <td>0</td>\n",
       "      <td>59</td>\n",
       "      <td>3500.0</td>\n",
       "      <td>NaN</td>\n",
       "      <td>NaN</td>\n",
       "    </tr>\n",
       "    <tr>\n",
       "      <th>22474</th>\n",
       "      <td>Apartamento</td>\n",
       "      <td>Cascadura</td>\n",
       "      <td>3</td>\n",
       "      <td>0</td>\n",
       "      <td>1</td>\n",
       "      <td>70</td>\n",
       "      <td>1200.0</td>\n",
       "      <td>NaN</td>\n",
       "      <td>NaN</td>\n",
       "    </tr>\n",
       "  </tbody>\n",
       "</table>\n",
       "<p>745 rows × 9 columns</p>\n",
       "</div>"
      ],
      "text/plain": [
       "              Tipo           Bairro  Quartos  Vagas  Suites  Area   Valor  \\\n",
       "4      Apartamento     Vista Alegre        3      1       0    70  1200.0   \n",
       "8      Apartamento           Centro        1      0       0    36  1200.0   \n",
       "83     Apartamento       Praça Seca        2      0       0    80  1000.0   \n",
       "117    Apartamento    Rocha Miranda        2      1       0    50  1100.0   \n",
       "133    Apartamento  Barra da Tijuca        1      1       1    65  2350.0   \n",
       "...            ...              ...      ...    ...     ...   ...     ...   \n",
       "22328  Apartamento       Copacabana        3      0       0   130  4600.0   \n",
       "22356  Apartamento        Guadalupe        1      0       0    40   550.0   \n",
       "22373  Apartamento       Bonsucesso        1      0       0    60  1000.0   \n",
       "22403  Apartamento         Flamengo        2      0       0    59  3500.0   \n",
       "22474  Apartamento        Cascadura        3      0       1    70  1200.0   \n",
       "\n",
       "       Condominio  IPTU  \n",
       "4             NaN   NaN  \n",
       "8             NaN   NaN  \n",
       "83            NaN   NaN  \n",
       "117           NaN   NaN  \n",
       "133           NaN   NaN  \n",
       "...           ...   ...  \n",
       "22328         NaN   NaN  \n",
       "22356         NaN   NaN  \n",
       "22373         NaN   NaN  \n",
       "22403         NaN   NaN  \n",
       "22474         NaN   NaN  \n",
       "\n",
       "[745 rows x 9 columns]"
      ]
     },
     "execution_count": 62,
     "metadata": {},
     "output_type": "execute_result"
    }
   ],
   "source": [
    "selecao = (dados['Tipo'] == 'Apartamento') & (dados['Condominio'].isnull())\n",
    "dados[selecao]"
   ]
  },
  {
   "cell_type": "code",
   "execution_count": 63,
   "id": "f12d5968",
   "metadata": {},
   "outputs": [
    {
     "data": {
      "text/plain": [
       "22571"
      ]
     },
     "execution_count": 63,
     "metadata": {},
     "output_type": "execute_result"
    }
   ],
   "source": [
    "dados.shape[0]"
   ]
  },
  {
   "cell_type": "code",
   "execution_count": 64,
   "id": "9852af73",
   "metadata": {},
   "outputs": [],
   "source": [
    "# dados = dados[selecao] -> Dessa forma o DataFrame 'dados' se transforma nese DataFrame exibido na linha acima\n",
    "dados = dados[~selecao]  # com o '~' a seleção booleana é invertida, \n",
    "                         # ou seja 'dados' se transforma no que não foi selecionado em dados[selecao]"
   ]
  },
  {
   "cell_type": "code",
   "execution_count": 65,
   "id": "5703a04b",
   "metadata": {},
   "outputs": [
    {
     "data": {
      "text/plain": [
       "21826"
      ]
     },
     "execution_count": 65,
     "metadata": {},
     "output_type": "execute_result"
    }
   ],
   "source": [
    "# verificando se foram apagados 745 registros\n",
    "dados.shape[0]"
   ]
  },
  {
   "cell_type": "code",
   "execution_count": 66,
   "id": "251cedb8",
   "metadata": {},
   "outputs": [],
   "source": [
    "# Preenchendo os valores nulos com '0'\n",
    "# dados.fillna(0, inplace = True) -> Dessa forma todos valores NaN passam a ser 0\n",
    "dados = dados.fillna({'Condominio': 0, 'IPTU': 0}) # Dessa forma podemos decidir qual valor será em cada coluna sepadamente"
   ]
  },
  {
   "cell_type": "code",
   "execution_count": 73,
   "id": "750f2136",
   "metadata": {},
   "outputs": [
    {
     "data": {
      "text/html": [
       "<div>\n",
       "<style scoped>\n",
       "    .dataframe tbody tr th:only-of-type {\n",
       "        vertical-align: middle;\n",
       "    }\n",
       "\n",
       "    .dataframe tbody tr th {\n",
       "        vertical-align: top;\n",
       "    }\n",
       "\n",
       "    .dataframe thead th {\n",
       "        text-align: right;\n",
       "    }\n",
       "</style>\n",
       "<table border=\"1\" class=\"dataframe\">\n",
       "  <thead>\n",
       "    <tr style=\"text-align: right;\">\n",
       "      <th></th>\n",
       "      <th>Tipo</th>\n",
       "      <th>Bairro</th>\n",
       "      <th>Quartos</th>\n",
       "      <th>Vagas</th>\n",
       "      <th>Suites</th>\n",
       "      <th>Area</th>\n",
       "      <th>Valor</th>\n",
       "      <th>Condominio</th>\n",
       "      <th>IPTU</th>\n",
       "    </tr>\n",
       "  </thead>\n",
       "  <tbody>\n",
       "  </tbody>\n",
       "</table>\n",
       "</div>"
      ],
      "text/plain": [
       "Empty DataFrame\n",
       "Columns: [Tipo, Bairro, Quartos, Vagas, Suites, Area, Valor, Condominio, IPTU]\n",
       "Index: []"
      ]
     },
     "execution_count": 73,
     "metadata": {},
     "output_type": "execute_result"
    }
   ],
   "source": [
    "dados[dados['Condominio'].isnull()]\n",
    "# não a mais valores nulos"
   ]
  },
  {
   "cell_type": "code",
   "execution_count": 74,
   "id": "50bed60e",
   "metadata": {},
   "outputs": [
    {
     "data": {
      "text/html": [
       "<div>\n",
       "<style scoped>\n",
       "    .dataframe tbody tr th:only-of-type {\n",
       "        vertical-align: middle;\n",
       "    }\n",
       "\n",
       "    .dataframe tbody tr th {\n",
       "        vertical-align: top;\n",
       "    }\n",
       "\n",
       "    .dataframe thead th {\n",
       "        text-align: right;\n",
       "    }\n",
       "</style>\n",
       "<table border=\"1\" class=\"dataframe\">\n",
       "  <thead>\n",
       "    <tr style=\"text-align: right;\">\n",
       "      <th></th>\n",
       "      <th>Tipo</th>\n",
       "      <th>Bairro</th>\n",
       "      <th>Quartos</th>\n",
       "      <th>Vagas</th>\n",
       "      <th>Suites</th>\n",
       "      <th>Area</th>\n",
       "      <th>Valor</th>\n",
       "      <th>Condominio</th>\n",
       "      <th>IPTU</th>\n",
       "    </tr>\n",
       "  </thead>\n",
       "  <tbody>\n",
       "  </tbody>\n",
       "</table>\n",
       "</div>"
      ],
      "text/plain": [
       "Empty DataFrame\n",
       "Columns: [Tipo, Bairro, Quartos, Vagas, Suites, Area, Valor, Condominio, IPTU]\n",
       "Index: []"
      ]
     },
     "execution_count": 74,
     "metadata": {},
     "output_type": "execute_result"
    }
   ],
   "source": [
    "dados[dados['IPTU'].isnull()]\n",
    "# não a mais valores nulos"
   ]
  },
  {
   "cell_type": "code",
   "execution_count": 76,
   "id": "7c7424aa",
   "metadata": {},
   "outputs": [
    {
     "name": "stdout",
     "output_type": "stream",
     "text": [
      "<class 'pandas.core.frame.DataFrame'>\n",
      "Int64Index: 21826 entries, 0 to 22579\n",
      "Data columns (total 9 columns):\n",
      " #   Column      Non-Null Count  Dtype  \n",
      "---  ------      --------------  -----  \n",
      " 0   Tipo        21826 non-null  object \n",
      " 1   Bairro      21826 non-null  object \n",
      " 2   Quartos     21826 non-null  int64  \n",
      " 3   Vagas       21826 non-null  int64  \n",
      " 4   Suites      21826 non-null  int64  \n",
      " 5   Area        21826 non-null  int64  \n",
      " 6   Valor       21826 non-null  float64\n",
      " 7   Condominio  21826 non-null  float64\n",
      " 8   IPTU        21826 non-null  float64\n",
      "dtypes: float64(3), int64(4), object(2)\n",
      "memory usage: 1.7+ MB\n"
     ]
    }
   ],
   "source": [
    "dados.info()  # não falta nenhum valor 'non-null' nas Variáveis"
   ]
  },
  {
   "cell_type": "code",
   "execution_count": 77,
   "id": "604f47ca",
   "metadata": {},
   "outputs": [],
   "source": [
    "# Exportando\n",
    "dados.to_csv('dados/aluguel_residencial.csv', sep=';', index=False)"
   ]
  },
  {
   "cell_type": "code",
   "execution_count": null,
   "id": "f4a5c029",
   "metadata": {},
   "outputs": [],
   "source": []
  }
 ],
 "metadata": {
  "kernelspec": {
   "display_name": "Python 3 (ipykernel)",
   "language": "python",
   "name": "python3"
  },
  "language_info": {
   "codemirror_mode": {
    "name": "ipython",
    "version": 3
   },
   "file_extension": ".py",
   "mimetype": "text/x-python",
   "name": "python",
   "nbconvert_exporter": "python",
   "pygments_lexer": "ipython3",
   "version": "3.9.13"
  }
 },
 "nbformat": 4,
 "nbformat_minor": 5
}
